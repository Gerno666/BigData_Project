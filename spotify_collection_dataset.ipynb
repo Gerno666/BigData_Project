{
 "cells": [
  {
   "cell_type": "code",
   "execution_count": 1,
   "metadata": {
    "executionInfo": {
     "elapsed": 1855,
     "status": "ok",
     "timestamp": 1652181061890,
     "user": {
      "displayName": "Andrea Bernini",
      "userId": "14906143389402215961"
     },
     "user_tz": -120
    },
    "id": "hMomtzm5x928"
   },
   "outputs": [],
   "source": [
    "# Import library\n",
    "import requests\n",
    "import pandas as pd\n",
    "import numpy as np\n",
    "import json\n",
    "from tqdm import tqdm\n",
    "import base64\n",
    "from requests.exceptions import ReadTimeout\n",
    "import csv\n",
    "import datetime\n",
    "import traceback\n",
    "import sys"
   ]
  },
  {
   "cell_type": "code",
   "execution_count": 16,
   "metadata": {
    "executionInfo": {
     "elapsed": 8,
     "status": "ok",
     "timestamp": 1652181066355,
     "user": {
      "displayName": "Andrea Bernini",
      "userId": "14906143389402215961"
     },
     "user_tz": -120
    },
    "id": "NWhjVLzRyIbQ"
   },
   "outputs": [],
   "source": [
    "# IDs\n",
    "\n",
    "#1.1\n",
    "#client_id = \"e4b7435210ed4f8598f14c2eb13e5412\"\n",
    "#client_secret = \"82169d73e683483db02b492cc25231cd\"\n",
    "\n",
    "#1.2\n",
    "#client_id = \"65902791925549cb8d1a76764f08d9c9\"\n",
    "#client_secret = \"e29852f240ff4f4aa7cc41ae4fd294b9\"\n",
    "\n",
    "#1.3\n",
    "#client_id = \"8fe545dfe43f42359afd13167713a679\"\n",
    "#client_secret = \"e2a8ec2e534140568777741540e2d2f5\"\n",
    "\n",
    "#1.4\n",
    "client_id = \"305564a058c64bb5aca31ea35e68fc2a\"\n",
    "client_secret = \"435171bb8e224583820ba8054b14db1c\"\n",
    "\n",
    "#1.5\n",
    "#client_id = \"0400ee04258f41ffa9cdbfb242470f0e\"\n",
    "#client_secret = \"713383fe08c64795a283c0f859f24a33\"\n",
    "\n",
    "#2.1\n",
    "#client_id = \"75a7c1edf8784fd3862d4e0930894742\"\n",
    "#client_secret = \"789f1005c0254a999d6b1ef53506d153\"\n",
    "\n",
    "#2.2\n",
    "#client_id = \"21be1429712f4c4fb60afef65b52e51c\"\n",
    "#client_secret = \"860cddd1840e46c4a358e4a17af5f01a\"\n",
    "\n",
    "#2.3\n",
    "#client_id = \"d042b85f700b4e80960e99e5a7283603\"\n",
    "#client_secret = \"98cea237ef4b4011a3f4c5154cef3923\"\n",
    "\n",
    "#2.4\n",
    "#client_id = \"dee5e2ce0b1b4d7982e0a8caced3da1f\"\n",
    "#client_secret = \"4a6a815d6320416ca0ff0a5a68a1f346\"\n",
    "\n",
    "#2.5\n",
    "#client_id = \"02a0a895986148bd838da1935dd5c864\"\n",
    "#client_secret = \"b04ac15e5a8f4df7ad6bb5dd01a14d33\"\n",
    "\n",
    "#3.1\n",
    "#client_id = \"eadffed752674760afd13f0804c84900\"\n",
    "#client_secret = \"81aeffa80c7e4f309d58bd83d41dfb10\"\n",
    "\n",
    "#3.2\n",
    "#client_id = \"86b548dfbb684998ac97dc14309f3727\"\n",
    "#client_secret = \"63cd3c4c2c47497bb21654c745fa4a8e\"\n",
    "\n",
    "#3.3\n",
    "#client_id = \"ceeb073b19184749ae69a6d1557c4e31\"\n",
    "#client_secret = \"08cb1a9f4d6f414ca844eafa0b9913e5\"\n",
    "\n",
    "#3.4\n",
    "#client_id = \"1555a0336d904ca7a4f35e2c2e6597d8\"\n",
    "#client_secret = \"3528d103d36349099c1cba15a3fd7729\"\n",
    "\n",
    "#3.5\n",
    "#client_id = \"1dd05312d3464db2b242cc5f7864e2b7\"\n",
    "#client_secret = \"dd21ed8eda2e4fceb0428c83235fcf57\"\n"
   ]
  },
  {
   "cell_type": "code",
   "execution_count": 17,
   "metadata": {
    "colab": {
     "base_uri": "https://localhost:8080/"
    },
    "executionInfo": {
     "elapsed": 17,
     "status": "ok",
     "timestamp": 1652181069403,
     "user": {
      "displayName": "Andrea Bernini",
      "userId": "14906143389402215961"
     },
     "user_tz": -120
    },
    "id": "3bpDlmT0ygPO",
    "outputId": "85a0923b-8dc2-4508-bac7-17d8e49f44a7"
   },
   "outputs": [],
   "source": [
    "headers = {}\n",
    "client_creds = f\"{client_id}:{client_secret}\"\n",
    "client_creds_base64 = base64.b64encode(client_creds.encode())\n",
    "token_url = 'https://accounts.spotify.com/api/token'\n",
    "token_data = {\"grant_type\": \"client_credentials\"}\n",
    "token_headers = {\"Authorization\":f\"Basic {client_creds_base64.decode()}\" }\n",
    "\n",
    "def get_new_token():\n",
    "    r = requests.post(token_url, headers=token_headers, data=token_data)\n",
    "    valid_request = r.status_code in range(200, 299)\n",
    "\n",
    "    if valid_request:\n",
    "        r = r.json()\n",
    "        access_token = r['access_token']\n",
    "        expires_in = r[\"expires_in\"]    # in second\n",
    "        # print(access_token, expires_in)\n",
    "\n",
    "        now = datetime.datetime.now()\n",
    "        expires = now + datetime.timedelta(seconds=expires_in)\n",
    "        # did_expire = expires < now\n",
    "\n",
    "        # Construct Spotify API query\n",
    "        headers = {\n",
    "            'Authorization': 'Bearer '+ access_token,\n",
    "            'Content-type': 'application/json',\n",
    "        }\n",
    "    return expires, headers\n",
    "\n",
    "expires, headers = get_new_token()"
   ]
  },
  {
   "cell_type": "code",
   "execution_count": 132,
   "metadata": {
    "id": "hD21f4k5XTsF"
   },
   "outputs": [
    {
     "name": "stdout",
     "output_type": "stream",
     "text": [
      "{\n",
      "    \"genres\": [\n",
      "        \"acoustic\",\n",
      "        \"afrobeat\",\n",
      "        \"alt-rock\",\n",
      "        \"alternative\",\n",
      "        \"ambient\",\n",
      "        \"anime\",\n",
      "        \"black-metal\",\n",
      "        \"bluegrass\",\n",
      "        \"blues\",\n",
      "        \"bossanova\",\n",
      "        \"brazil\",\n",
      "        \"breakbeat\",\n",
      "        \"british\",\n",
      "        \"cantopop\",\n",
      "        \"chicago-house\",\n",
      "        \"children\",\n",
      "        \"chill\",\n",
      "        \"classical\",\n",
      "        \"club\",\n",
      "        \"comedy\",\n",
      "        \"country\",\n",
      "        \"dance\",\n",
      "        \"dancehall\",\n",
      "        \"death-metal\",\n",
      "        \"deep-house\",\n",
      "        \"detroit-techno\",\n",
      "        \"disco\",\n",
      "        \"disney\",\n",
      "        \"drum-and-bass\",\n",
      "        \"dub\",\n",
      "        \"dubstep\",\n",
      "        \"edm\",\n",
      "        \"electro\",\n",
      "        \"electronic\",\n",
      "        \"emo\",\n",
      "        \"folk\",\n",
      "        \"forro\",\n",
      "        \"french\",\n",
      "        \"funk\",\n",
      "        \"garage\",\n",
      "        \"german\",\n",
      "        \"gospel\",\n",
      "        \"goth\",\n",
      "        \"grindcore\",\n",
      "        \"groove\",\n",
      "        \"grunge\",\n",
      "        \"guitar\",\n",
      "        \"happy\",\n",
      "        \"hard-rock\",\n",
      "        \"hardcore\",\n",
      "        \"hardstyle\",\n",
      "        \"heavy-metal\",\n",
      "        \"hip-hop\",\n",
      "        \"holidays\",\n",
      "        \"honky-tonk\",\n",
      "        \"house\",\n",
      "        \"idm\",\n",
      "        \"indian\",\n",
      "        \"indie\",\n",
      "        \"indie-pop\",\n",
      "        \"industrial\",\n",
      "        \"iranian\",\n",
      "        \"j-dance\",\n",
      "        \"j-idol\",\n",
      "        \"j-pop\",\n",
      "        \"j-rock\",\n",
      "        \"jazz\",\n",
      "        \"k-pop\",\n",
      "        \"kids\",\n",
      "        \"latin\",\n",
      "        \"latino\",\n",
      "        \"malay\",\n",
      "        \"mandopop\",\n",
      "        \"metal\",\n",
      "        \"metal-misc\",\n",
      "        \"metalcore\",\n",
      "        \"minimal-techno\",\n",
      "        \"movies\",\n",
      "        \"mpb\",\n",
      "        \"new-age\",\n",
      "        \"new-release\",\n",
      "        \"opera\",\n",
      "        \"pagode\",\n",
      "        \"party\",\n",
      "        \"philippines-opm\",\n",
      "        \"piano\",\n",
      "        \"pop\",\n",
      "        \"pop-film\",\n",
      "        \"post-dubstep\",\n",
      "        \"power-pop\",\n",
      "        \"progressive-house\",\n",
      "        \"psych-rock\",\n",
      "        \"punk\",\n",
      "        \"punk-rock\",\n",
      "        \"r-n-b\",\n",
      "        \"rainy-day\",\n",
      "        \"reggae\",\n",
      "        \"reggaeton\",\n",
      "        \"road-trip\",\n",
      "        \"rock\",\n",
      "        \"rock-n-roll\",\n",
      "        \"rockabilly\",\n",
      "        \"romance\",\n",
      "        \"sad\",\n",
      "        \"salsa\",\n",
      "        \"samba\",\n",
      "        \"sertanejo\",\n",
      "        \"show-tunes\",\n",
      "        \"singer-songwriter\",\n",
      "        \"ska\",\n",
      "        \"sleep\",\n",
      "        \"songwriter\",\n",
      "        \"soul\",\n",
      "        \"soundtracks\",\n",
      "        \"spanish\",\n",
      "        \"study\",\n",
      "        \"summer\",\n",
      "        \"swedish\",\n",
      "        \"synth-pop\",\n",
      "        \"tango\",\n",
      "        \"techno\",\n",
      "        \"trance\",\n",
      "        \"trip-hop\",\n",
      "        \"turkish\",\n",
      "        \"work-out\",\n",
      "        \"world-music\"\n",
      "    ]\n",
      "}\n",
      "{'genres': ['acoustic', 'afrobeat', 'alt-rock', 'alternative', 'ambient', 'anime', 'black-metal', 'bluegrass', 'blues', 'bossanova', 'brazil', 'breakbeat', 'british', 'cantopop', 'chicago-house', 'children', 'chill', 'classical', 'club', 'comedy', 'country', 'dance', 'dancehall', 'death-metal', 'deep-house', 'detroit-techno', 'disco', 'disney', 'drum-and-bass', 'dub', 'dubstep', 'edm', 'electro', 'electronic', 'emo', 'folk', 'forro', 'french', 'funk', 'garage', 'german', 'gospel', 'goth', 'grindcore', 'groove', 'grunge', 'guitar', 'happy', 'hard-rock', 'hardcore', 'hardstyle', 'heavy-metal', 'hip-hop', 'holidays', 'honky-tonk', 'house', 'idm', 'indian', 'indie', 'indie-pop', 'industrial', 'iranian', 'j-dance', 'j-idol', 'j-pop', 'j-rock', 'jazz', 'k-pop', 'kids', 'latin', 'latino', 'malay', 'mandopop', 'metal', 'metal-misc', 'metalcore', 'minimal-techno', 'movies', 'mpb', 'new-age', 'new-release', 'opera', 'pagode', 'party', 'philippines-opm', 'piano', 'pop', 'pop-film', 'post-dubstep', 'power-pop', 'progressive-house', 'psych-rock', 'punk', 'punk-rock', 'r-n-b', 'rainy-day', 'reggae', 'reggaeton', 'road-trip', 'rock', 'rock-n-roll', 'rockabilly', 'romance', 'sad', 'salsa', 'samba', 'sertanejo', 'show-tunes', 'singer-songwriter', 'ska', 'sleep', 'songwriter', 'soul', 'soundtracks', 'spanish', 'study', 'summer', 'swedish', 'synth-pop', 'tango', 'techno', 'trance', 'trip-hop', 'turkish', 'work-out', 'world-music']}\n"
     ]
    }
   ],
   "source": [
    "track_url = 'https://api.spotify.com/v1/recommendations/available-genre-seeds'\n",
    "\n",
    "# Query Spotify API\n",
    "try:\n",
    "    if expires < datetime.datetime.now(): \n",
    "        print(\"Get new Token\")\n",
    "        expires, headers = get_new_token()\n",
    "\n",
    "    response = requests.get(track_url, headers=headers)\n",
    "    if response.status_code == 200:\n",
    "        genres = response.json()\n",
    "        print(json.dumps(genres, indent=4))\n",
    "\n",
    "        genres_to_remove = [#\"acoustic\", \"afrobeat\", \"alt-rock\", \"alternative\", \"ambient\", \"anime\", \"black-metal\", \"bluegrass\", \"blues\", \"bossanova\",\n",
    "                            #\"brazil\",\"breakbeat\", \"british\", \"cantopop\", \"chicago-house\", \"children\", \"chill\", \"classical\", \"club\", \"comedy\", \"country\",\n",
    "                            #\"dance\", \"dancehall\", \"death-metal\", \"deep-house\", \"detroit-techno\", \"disco\", \"disney\", \"drum-and-bass\", \"dub\",\n",
    "                            #\"dubstep\", \"edm\", \"electro\", \"electronic\", \"emo\", \"folk\", \"forro\", \"french\", \"funk\", \"garage\", \"german\", \"gospel\",\n",
    "                            #\"goth\", \"grindcore\", \"groove\", \"grunge\", \"guitar\", \"happy\", \"hard-rock\", \"hardcore\", \"hardstyle\", \"heavy-metal\",\n",
    "                            #\"hip-hop\", \"holidays\", \"honky-tonk\", \"house\", \"idm\", \"indian\", \"indie\", \"indie-pop\", \"industrial\", \"iranian\", \"j-dance\",\n",
    "                            #\"j-idol\", \"j-pop\", \"j-rock\", \"jazz\", \"k-pop\", \"kids\", \"latin\", \"latino\", \"malay\", \"mandopop\", \"metal\", \"metal-misc\",\n",
    "                            #\"metalcore\", \"minimal-techno\", \"movies\", \"mpb\", \"new-age\", \"new-release\", \"opera\", \"pagode\", \"party\", \"philippines-opm\",\n",
    "                            #\"piano\", \"pop\", \"pop-film\", \"post-dubstep\", \"power-pop\", \"progressive-house\", \"psych-rock\", \"punk\", \"punk-rock\", \"r-n-b\",\n",
    "                            #\"rainy-day\", \"reggae\", \"reggaeton\", \"road-trip\", \"rock\", \"rock-n-roll\", \"rockabilly\", \"romance\", \"sad\", \"salsa\", \"samba\",\n",
    "                            #\"sertanejo\", \"show-tunes\", \"singer-songwriter\", \"ska\", \"sleep\", \"songwriter\", \"soul\", \"soundtracks\", \"spanish\", \"study\",\n",
    "                            #\"summer\", \"swedish\", \"synth-pop\", \"tango\", \"techno\", \"trance\", \"trip-hop\", \"turkish\", \"work-out\", \"world-music\"\n",
    "                            ]\n",
    "        for genre in genres_to_remove:\n",
    "            if genre in genres[\"genres\"]:\n",
    "                genres[\"genres\"].remove(genre)\n",
    "        print(genres)\n",
    "    else:\n",
    "        print(\"La richiesta HTTP ha restituito un codice di stato diverso da 200:\", response.status_code, response.headers)\n",
    "\n",
    "except Exception as e:\n",
    "    print(\"\\n\", e)\n",
    "    traceback.print_exc()\n",
    "\n",
    "# Create a json file for genres list\n",
    "with open(\"genres.json\", 'w') as f:\n",
    "   json.dump(genres, f, indent=4)"
   ]
  },
  {
   "cell_type": "code",
   "execution_count": 113,
   "metadata": {
    "id": "IIU7TnIHxGiS"
   },
   "outputs": [
    {
     "name": "stderr",
     "output_type": "stream",
     "text": [
      " 50%|█████     | 1/2 [01:03<01:03, 63.83s/it]"
     ]
    },
    {
     "name": "stdout",
     "output_type": "stream",
     "text": [
      "work-out 847\n"
     ]
    },
    {
     "name": "stderr",
     "output_type": "stream",
     "text": [
      "100%|██████████| 2/2 [01:56<00:00, 58.24s/it]"
     ]
    },
    {
     "name": "stdout",
     "output_type": "stream",
     "text": [
      "world-music 849\n"
     ]
    },
    {
     "name": "stderr",
     "output_type": "stream",
     "text": [
      "\n"
     ]
    }
   ],
   "source": [
    "min_number_of_tracks = 1000\n",
    "max_null_iteration = 10\n",
    "stored_tracks = {} # {track_id: genre}\n",
    "old_tot_track = 0\n",
    "\n",
    "for genre in tqdm(genres[\"genres\"]):\n",
    "    number_of_tracks = 0\n",
    "    null_iteration_count = 0\n",
    "\n",
    "    track_url = 'https://api.spotify.com/v1/recommendations?' + 'seed_genres=' + genre + \"&limit=100\"\n",
    "\n",
    "    while number_of_tracks < min_number_of_tracks and null_iteration_count < max_null_iteration:\n",
    "        try:\n",
    "            if expires < datetime.datetime.now(): \n",
    "                print(\"Get new Token\")\n",
    "                expires, headers = get_new_token()\n",
    "            # tracks_list = sp.recommendations(seed_genres=[genre], limit=100)\n",
    "\n",
    "            response = requests.get(track_url, headers=headers)\n",
    "            if response.status_code == 429:\n",
    "                print(genre, len(stored_tracks)-old_tot_track)\n",
    "                old_tot_track = len(stored_tracks)\n",
    "                # Create a json file for genres list\n",
    "                with open(\"stored_tracks.json\", 'w') as f:\n",
    "                    json.dump(stored_tracks, f, indent=4)\n",
    "                print(response.headers)\n",
    "                sys.exit()\n",
    "            \n",
    "            tracks_list = response.json()\n",
    "        except Exception as e:\n",
    "            print(\"\\n\", e)\n",
    "            traceback.print_exc()\n",
    "        \n",
    "        null_iteration = True\n",
    "        \n",
    "        if \"tracks\" in tracks_list:\n",
    "            for i, track in enumerate(tracks_list[\"tracks\"]):\n",
    "                if track[\"id\"] not in stored_tracks:\n",
    "                    stored_tracks[track[\"id\"]] = genre\n",
    "                    number_of_tracks += 1\n",
    "                    null_iteration = False\n",
    "\n",
    "        if null_iteration:\n",
    "            null_iteration_count += 1\n",
    "            \n",
    "    print(genre, len(stored_tracks)-old_tot_track)\n",
    "    old_tot_track = len(stored_tracks)\n",
    "    # Create a json file for genres list\n",
    "    with open(\"stored_tracks.json\", 'w') as f:\n",
    "       json.dump(stored_tracks, f, indent=4)\n",
    "    \n",
    "        "
   ]
  },
  {
   "cell_type": "code",
   "execution_count": 6,
   "metadata": {
    "id": "wOp7y2a8xIZp"
   },
   "outputs": [
    {
     "ename": "NameError",
     "evalue": "name 'json' is not defined",
     "output_type": "error",
     "traceback": [
      "\u001b[0;31m---------------------------------------------------------------------------\u001b[0m",
      "\u001b[0;31mNameError\u001b[0m                                 Traceback (most recent call last)",
      "\u001b[1;32m/Users/niccoloerasmi/Desktop/Raccolta_Dati/spotify_collection_dataset.ipynb Cella 6\u001b[0m line \u001b[0;36m5\n\u001b[1;32m      <a href='vscode-notebook-cell:/Users/niccoloerasmi/Desktop/Raccolta_Dati/spotify_collection_dataset.ipynb#W5sZmlsZQ%3D%3D?line=1'>2</a>\u001b[0m stored_tracks \u001b[39m=\u001b[39m \u001b[39m\"\u001b[39m\u001b[39mstored_tracks.json\u001b[39m\u001b[39m\"\u001b[39m\n\u001b[1;32m      <a href='vscode-notebook-cell:/Users/niccoloerasmi/Desktop/Raccolta_Dati/spotify_collection_dataset.ipynb#W5sZmlsZQ%3D%3D?line=3'>4</a>\u001b[0m \u001b[39mwith\u001b[39;00m \u001b[39mopen\u001b[39m(\u001b[39m\"\u001b[39m\u001b[39mstored_tracks.json\u001b[39m\u001b[39m\"\u001b[39m, \u001b[39m'\u001b[39m\u001b[39mw\u001b[39m\u001b[39m'\u001b[39m) \u001b[39mas\u001b[39;00m f:\n\u001b[0;32m----> <a href='vscode-notebook-cell:/Users/niccoloerasmi/Desktop/Raccolta_Dati/spotify_collection_dataset.ipynb#W5sZmlsZQ%3D%3D?line=4'>5</a>\u001b[0m    json\u001b[39m.\u001b[39mdump(stored_tracks, f, indent\u001b[39m=\u001b[39m\u001b[39m4\u001b[39m)\n",
      "\u001b[0;31mNameError\u001b[0m: name 'json' is not defined"
     ]
    }
   ],
   "source": [
    "# Create a json file for genres list\n",
    "stored_tracks = \"stored_tracks.json\"\n",
    "\n",
    "with open(\"stored_tracks.json\", 'w') as f:\n",
    "   json.dump(stored_tracks, f, indent=4)"
   ]
  },
  {
   "cell_type": "code",
   "execution_count": 7,
   "metadata": {
    "executionInfo": {
     "elapsed": 867,
     "status": "ok",
     "timestamp": 1652181249866,
     "user": {
      "displayName": "Andrea Bernini",
      "userId": "14906143389402215961"
     },
     "user_tz": -120
    },
    "id": "Js_Y7mdefRV_"
   },
   "outputs": [
    {
     "ename": "NameError",
     "evalue": "name 'csv' is not defined",
     "output_type": "error",
     "traceback": [
      "\u001b[0;31m---------------------------------------------------------------------------\u001b[0m",
      "\u001b[0;31mNameError\u001b[0m                                 Traceback (most recent call last)",
      "\u001b[1;32m/Users/niccoloerasmi/Desktop/Raccolta_Dati/spotify_collection_dataset.ipynb Cella 7\u001b[0m line \u001b[0;36m8\n\u001b[1;32m      <a href='vscode-notebook-cell:/Users/niccoloerasmi/Desktop/Raccolta_Dati/spotify_collection_dataset.ipynb#W6sZmlsZQ%3D%3D?line=0'>1</a>\u001b[0m columns \u001b[39m=\u001b[39m [\u001b[39m\"\u001b[39m\u001b[39mid\u001b[39m\u001b[39m\"\u001b[39m, \u001b[39m\"\u001b[39m\u001b[39mtrack_name\u001b[39m\u001b[39m\"\u001b[39m, \u001b[39m\"\u001b[39m\u001b[39mtrack_explicit\u001b[39m\u001b[39m\"\u001b[39m,  \u001b[39m\"\u001b[39m\u001b[39mtrack_popularity\u001b[39m\u001b[39m\"\u001b[39m, \u001b[39m\"\u001b[39m\u001b[39malbum_name\u001b[39m\u001b[39m\"\u001b[39m, \u001b[39m\"\u001b[39m\u001b[39malbum_release_date\u001b[39m\u001b[39m\"\u001b[39m, \u001b[39m\"\u001b[39m\u001b[39malbum_release_date_precision\u001b[39m\u001b[39m\"\u001b[39m,\n\u001b[1;32m      <a href='vscode-notebook-cell:/Users/niccoloerasmi/Desktop/Raccolta_Dati/spotify_collection_dataset.ipynb#W6sZmlsZQ%3D%3D?line=1'>2</a>\u001b[0m            \u001b[39m\"\u001b[39m\u001b[39martist_name\u001b[39m\u001b[39m\"\u001b[39m, \u001b[39m\"\u001b[39m\u001b[39maudio_avg_pitches\u001b[39m\u001b[39m\"\u001b[39m, \u001b[39m\"\u001b[39m\u001b[39maudio_avg_timbre\u001b[39m\u001b[39m\"\u001b[39m,\n\u001b[1;32m      <a href='vscode-notebook-cell:/Users/niccoloerasmi/Desktop/Raccolta_Dati/spotify_collection_dataset.ipynb#W6sZmlsZQ%3D%3D?line=2'>3</a>\u001b[0m            \u001b[39m\"\u001b[39m\u001b[39maudio_acousticness\u001b[39m\u001b[39m\"\u001b[39m, \u001b[39m\"\u001b[39m\u001b[39maudio_danceability\u001b[39m\u001b[39m\"\u001b[39m, \u001b[39m\"\u001b[39m\u001b[39maudio_duration_ms\u001b[39m\u001b[39m\"\u001b[39m, \u001b[39m\"\u001b[39m\u001b[39maudio_energy\u001b[39m\u001b[39m\"\u001b[39m, \u001b[39m\"\u001b[39m\u001b[39maudio_instrumentalness\u001b[39m\u001b[39m\"\u001b[39m,\n\u001b[1;32m      <a href='vscode-notebook-cell:/Users/niccoloerasmi/Desktop/Raccolta_Dati/spotify_collection_dataset.ipynb#W6sZmlsZQ%3D%3D?line=3'>4</a>\u001b[0m            \u001b[39m\"\u001b[39m\u001b[39maudio_key_1\u001b[39m\u001b[39m\"\u001b[39m, \u001b[39m\"\u001b[39m\u001b[39maudio_liveness\u001b[39m\u001b[39m\"\u001b[39m, \u001b[39m\"\u001b[39m\u001b[39maudio_loudness\u001b[39m\u001b[39m\"\u001b[39m, \u001b[39m\"\u001b[39m\u001b[39maudio_mode_1\u001b[39m\u001b[39m\"\u001b[39m, \u001b[39m\"\u001b[39m\u001b[39maudio_speechiness\u001b[39m\u001b[39m\"\u001b[39m, \u001b[39m\"\u001b[39m\u001b[39maudio_tempo\u001b[39m\u001b[39m\"\u001b[39m,\n\u001b[1;32m      <a href='vscode-notebook-cell:/Users/niccoloerasmi/Desktop/Raccolta_Dati/spotify_collection_dataset.ipynb#W6sZmlsZQ%3D%3D?line=4'>5</a>\u001b[0m            \u001b[39m\"\u001b[39m\u001b[39maudio_time_signature\u001b[39m\u001b[39m\"\u001b[39m, \u001b[39m\"\u001b[39m\u001b[39maudio_valence\u001b[39m\u001b[39m\"\u001b[39m, \u001b[39m\"\u001b[39m\u001b[39mtrack_uri\u001b[39m\u001b[39m\"\u001b[39m, \u001b[39m\"\u001b[39m\u001b[39mtrack_genre\u001b[39m\u001b[39m\"\u001b[39m]\n\u001b[1;32m      <a href='vscode-notebook-cell:/Users/niccoloerasmi/Desktop/Raccolta_Dati/spotify_collection_dataset.ipynb#W6sZmlsZQ%3D%3D?line=6'>7</a>\u001b[0m \u001b[39mwith\u001b[39;00m \u001b[39mopen\u001b[39m(\u001b[39m'\u001b[39m\u001b[39mdataframe.csv\u001b[39m\u001b[39m'\u001b[39m, \u001b[39m'\u001b[39m\u001b[39mw\u001b[39m\u001b[39m'\u001b[39m, newline\u001b[39m=\u001b[39m\u001b[39m'\u001b[39m\u001b[39m'\u001b[39m) \u001b[39mas\u001b[39;00m f:\n\u001b[0;32m----> <a href='vscode-notebook-cell:/Users/niccoloerasmi/Desktop/Raccolta_Dati/spotify_collection_dataset.ipynb#W6sZmlsZQ%3D%3D?line=7'>8</a>\u001b[0m     write \u001b[39m=\u001b[39m csv\u001b[39m.\u001b[39mwriter(f)\n\u001b[1;32m      <a href='vscode-notebook-cell:/Users/niccoloerasmi/Desktop/Raccolta_Dati/spotify_collection_dataset.ipynb#W6sZmlsZQ%3D%3D?line=8'>9</a>\u001b[0m     write\u001b[39m.\u001b[39mwriterow(columns)\n\u001b[1;32m     <a href='vscode-notebook-cell:/Users/niccoloerasmi/Desktop/Raccolta_Dati/spotify_collection_dataset.ipynb#W6sZmlsZQ%3D%3D?line=9'>10</a>\u001b[0m     \u001b[39m#write.writerows(list_of_track_audio_features)\u001b[39;00m\n",
      "\u001b[0;31mNameError\u001b[0m: name 'csv' is not defined"
     ]
    }
   ],
   "source": [
    "columns = [\"id\", \"track_name\", \"track_explicit\",  \"track_popularity\", \"album_name\", \"album_release_date\", \"album_release_date_precision\",\n",
    "           \"artist_name\", \"audio_avg_pitches\", \"audio_avg_timbre\",\n",
    "           \"audio_acousticness\", \"audio_danceability\", \"audio_duration_ms\", \"audio_energy\", \"audio_instrumentalness\",\n",
    "           \"audio_key_1\", \"audio_liveness\", \"audio_loudness\", \"audio_mode_1\", \"audio_speechiness\", \"audio_tempo\",\n",
    "           \"audio_time_signature\", \"audio_valence\", \"track_uri\", \"track_genre\"]\n",
    "\n",
    "with open('dataframe.csv', 'w', newline='') as f:\n",
    "    write = csv.writer(f)\n",
    "    write.writerow(columns)\n",
    "    #write.writerows(list_of_track_audio_features)\n",
    "    f.close()"
   ]
  },
  {
   "cell_type": "code",
   "execution_count": 18,
   "metadata": {
    "colab": {
     "base_uri": "https://localhost:8080/",
     "height": 623
    },
    "executionInfo": {
     "elapsed": 1946778,
     "status": "error",
     "timestamp": 1652183197507,
     "user": {
      "displayName": "Andrea Bernini",
      "userId": "14906143389402215961"
     },
     "user_tz": -120
    },
    "id": "8mqQerA8xJ59",
    "outputId": "0dc43816-dcdc-46bc-879f-3d314150030c"
   },
   "outputs": [
    {
     "name": "stderr",
     "output_type": "stream",
     "text": [
      "  5%|▌         | 1/19 [00:01<00:33,  1.87s/it]"
     ]
    },
    {
     "name": "stdout",
     "output_type": "stream",
     "text": [
      "\n",
      " STATUS: 200 502 200\n"
     ]
    },
    {
     "name": "stderr",
     "output_type": "stream",
     "text": [
      " 11%|█         | 2/19 [00:04<00:34,  2.02s/it]"
     ]
    },
    {
     "name": "stdout",
     "output_type": "stream",
     "text": [
      "\n",
      " STATUS: 200 502 200\n"
     ]
    },
    {
     "name": "stderr",
     "output_type": "stream",
     "text": [
      " 16%|█▌        | 3/19 [00:06<00:36,  2.29s/it]"
     ]
    },
    {
     "name": "stdout",
     "output_type": "stream",
     "text": [
      "\n",
      " STATUS: 200 502 200\n"
     ]
    },
    {
     "name": "stderr",
     "output_type": "stream",
     "text": [
      " 21%|██        | 4/19 [00:09<00:37,  2.48s/it]"
     ]
    },
    {
     "name": "stdout",
     "output_type": "stream",
     "text": [
      "\n",
      " STATUS: 200 502 200\n"
     ]
    },
    {
     "name": "stderr",
     "output_type": "stream",
     "text": [
      " 26%|██▋       | 5/19 [00:11<00:33,  2.38s/it]"
     ]
    },
    {
     "name": "stdout",
     "output_type": "stream",
     "text": [
      "\n",
      " STATUS: 200 502 200\n"
     ]
    },
    {
     "name": "stderr",
     "output_type": "stream",
     "text": [
      " 32%|███▏      | 6/19 [00:13<00:29,  2.28s/it]"
     ]
    },
    {
     "name": "stdout",
     "output_type": "stream",
     "text": [
      "\n",
      " STATUS: 200 502 200\n"
     ]
    },
    {
     "name": "stderr",
     "output_type": "stream",
     "text": [
      " 37%|███▋      | 7/19 [00:14<00:20,  1.68s/it]"
     ]
    },
    {
     "name": "stdout",
     "output_type": "stream",
     "text": [
      "\n",
      " STATUS: 200 404 200\n"
     ]
    },
    {
     "name": "stderr",
     "output_type": "stream",
     "text": [
      " 42%|████▏     | 8/19 [00:14<00:14,  1.29s/it]"
     ]
    },
    {
     "name": "stdout",
     "output_type": "stream",
     "text": [
      "\n",
      " STATUS: 200 404 200\n"
     ]
    },
    {
     "name": "stderr",
     "output_type": "stream",
     "text": [
      " 47%|████▋     | 9/19 [00:17<00:16,  1.66s/it]"
     ]
    },
    {
     "name": "stdout",
     "output_type": "stream",
     "text": [
      "\n",
      " STATUS: 200 502 200\n"
     ]
    },
    {
     "name": "stderr",
     "output_type": "stream",
     "text": [
      " 53%|█████▎    | 10/19 [00:19<00:16,  1.87s/it]"
     ]
    },
    {
     "name": "stdout",
     "output_type": "stream",
     "text": [
      "\n",
      " STATUS: 200 502 200\n"
     ]
    },
    {
     "name": "stderr",
     "output_type": "stream",
     "text": [
      " 58%|█████▊    | 11/19 [00:21<00:16,  2.02s/it]"
     ]
    },
    {
     "name": "stdout",
     "output_type": "stream",
     "text": [
      "\n",
      " STATUS: 200 502 200\n"
     ]
    },
    {
     "name": "stderr",
     "output_type": "stream",
     "text": [
      " 63%|██████▎   | 12/19 [00:23<00:14,  2.03s/it]"
     ]
    },
    {
     "name": "stdout",
     "output_type": "stream",
     "text": [
      "\n",
      " STATUS: 200 502 200\n"
     ]
    },
    {
     "name": "stderr",
     "output_type": "stream",
     "text": [
      " 68%|██████▊   | 13/19 [00:24<00:09,  1.56s/it]"
     ]
    },
    {
     "name": "stdout",
     "output_type": "stream",
     "text": [
      "\n",
      " STATUS: 200 404 200\n"
     ]
    },
    {
     "name": "stderr",
     "output_type": "stream",
     "text": [
      " 74%|███████▎  | 14/19 [00:26<00:08,  1.74s/it]"
     ]
    },
    {
     "name": "stdout",
     "output_type": "stream",
     "text": [
      "\n",
      " STATUS: 200 502 200\n"
     ]
    },
    {
     "name": "stderr",
     "output_type": "stream",
     "text": [
      " 79%|███████▉  | 15/19 [00:26<00:05,  1.35s/it]"
     ]
    },
    {
     "name": "stdout",
     "output_type": "stream",
     "text": [
      "\n",
      " STATUS: 200 404 200\n"
     ]
    },
    {
     "name": "stderr",
     "output_type": "stream",
     "text": [
      " 84%|████████▍ | 16/19 [00:28<00:04,  1.49s/it]"
     ]
    },
    {
     "name": "stdout",
     "output_type": "stream",
     "text": [
      "\n",
      " STATUS: 200 502 200\n"
     ]
    },
    {
     "name": "stderr",
     "output_type": "stream",
     "text": [
      " 89%|████████▉ | 17/19 [00:31<00:03,  1.75s/it]"
     ]
    },
    {
     "name": "stdout",
     "output_type": "stream",
     "text": [
      "\n",
      " STATUS: 200 502 200\n"
     ]
    },
    {
     "name": "stderr",
     "output_type": "stream",
     "text": [
      " 95%|█████████▍| 18/19 [00:33<00:01,  1.81s/it]"
     ]
    },
    {
     "name": "stdout",
     "output_type": "stream",
     "text": [
      "\n",
      " STATUS: 200 502 200\n"
     ]
    },
    {
     "name": "stderr",
     "output_type": "stream",
     "text": [
      "100%|██████████| 19/19 [00:35<00:00,  1.87s/it]"
     ]
    },
    {
     "name": "stdout",
     "output_type": "stream",
     "text": [
      "\n",
      " STATUS: 200 502 200\n"
     ]
    },
    {
     "name": "stderr",
     "output_type": "stream",
     "text": [
      "\n"
     ]
    }
   ],
   "source": [
    "list_of_track_audio_features = []\n",
    "\n",
    "with open('stored_tracks.json') as f:\n",
    "    stored_tracks = json.load(f)\n",
    "\n",
    "for i,track in enumerate(tqdm(stored_tracks)):\n",
    "\n",
    "    if expires < datetime.datetime.now(): \n",
    "        print(\"Get new Token\")\n",
    "        expires, headers = get_new_token()\n",
    "   \n",
    "            \n",
    "    try:\n",
    "      track_info_url = \"https://api.spotify.com/v1/tracks/\" + track\n",
    "      track_info = requests.get(track_info_url, headers=headers)\n",
    "      track_audio_analysis_url = \"https://api.spotify.com/v1/audio-analysis/\" + track\n",
    "      track_audio_analysis = requests.get(track_audio_analysis_url, headers=headers)\n",
    "      features_url = \"https://api.spotify.com/v1/audio-features/\" + track\n",
    "      features = requests.get(features_url, headers=headers)  \n",
    "\n",
    "      valid_request_1 = track_info.status_code in range(200, 299)\n",
    "      valid_request_2 = track_audio_analysis.status_code in range(200, 299)\n",
    "      valid_request_3 = features.status_code in range(200, 299)\n",
    "\n",
    "      if (valid_request_1 and valid_request_2 and valid_request_3):\n",
    "        track_info = track_info.json()\n",
    "        track_audio_analysis = track_audio_analysis.json()\n",
    "        features = features.json()\n",
    "      else:\n",
    "        print(\"\\n STATUS:\", track_info.status_code, track_audio_analysis.status_code, features.status_code)\n",
    "        continue\n",
    "    except Exception as e:\n",
    "      print(e)\n",
    "      continue\n",
    "\n",
    "    track_name = track_info[\"name\"]     \n",
    "    track_explicit = track_info['explicit']\n",
    "    track_popularity = track_info[\"popularity\"]\n",
    "    album_info = track_info['album']\n",
    "    album_name = album_info['name']\n",
    "    album_release_date = album_info['release_date']\n",
    "    album_release_date_precision = album_info['release_date_precision']\n",
    "    artist_info = track_info['artists'][0]\n",
    "    artist_name = artist_info['name']\n",
    "    track_info = [track_name, track_explicit, track_popularity,\n",
    "                  album_name, album_release_date, album_release_date_precision,\n",
    "                  artist_name]\n",
    "  \n",
    "    #Add in some Spotify Audio Analysis Vectors\n",
    "    num_seg = 0\n",
    "    pitches = np.zeros(12)\n",
    "    timbre = np.zeros(12)   \n",
    "    if \"segments\" in track_audio_analysis:\n",
    "        for _, j in enumerate(track_audio_analysis['segments']):\n",
    "            pitches += np.array(j['pitches'])\n",
    "            timbre += np.array(j['timbre'])\n",
    "            num_seg+=1\n",
    "    track_features_avg_pitches = list(pitches/num_seg)\n",
    "    track_features_avg_timbre = list(timbre/num_seg)\n",
    "    track_audio_analysis_list = [track_features_avg_pitches, track_features_avg_timbre]\n",
    "  \n",
    "    # Get audio features for this specific track\n",
    "    features_list = [features['acousticness'], features['danceability'], features['duration_ms'],\n",
    "                      features['energy'], features['instrumentalness'], features['key'], \n",
    "                      features['liveness'], features['loudness'], features['mode'],  \n",
    "                      features['speechiness'], features['tempo'], features['time_signature'],\n",
    "                      features['valence'], features['uri']]\n",
    "    \n",
    "    trackData = [track] + track_info + track_audio_analysis_list + features_list + [stored_tracks[track]]\n",
    "    list_of_track_audio_features.append(trackData)\n",
    "\n",
    "    with open('dataframe.csv', 'a+', newline='') as f:\n",
    "    # using csv.writer method from CSV package\n",
    "        write = csv.writer(f)\n",
    "        write.writerow(trackData)\n",
    "        f.close()"
   ]
  },
  {
   "cell_type": "code",
   "execution_count": 14,
   "metadata": {
    "id": "lmBtDLMXAQSC"
   },
   "outputs": [
    {
     "ename": "NameError",
     "evalue": "name 'columns' is not defined",
     "output_type": "error",
     "traceback": [
      "\u001b[0;31m---------------------------------------------------------------------------\u001b[0m",
      "\u001b[0;31mNameError\u001b[0m                                 Traceback (most recent call last)",
      "\u001b[1;32m/Users/niccoloerasmi/Desktop/Raccolta_Dati/spotify_collection_dataset.ipynb Cella 9\u001b[0m line \u001b[0;36m1\n\u001b[0;32m----> <a href='vscode-notebook-cell:/Users/niccoloerasmi/Desktop/Raccolta_Dati/spotify_collection_dataset.ipynb#X11sZmlsZQ%3D%3D?line=0'>1</a>\u001b[0m spotify_track \u001b[39m=\u001b[39m pd\u001b[39m.\u001b[39mDataFrame(list_of_track_audio_features, columns \u001b[39m=\u001b[39m columns)\n\u001b[1;32m      <a href='vscode-notebook-cell:/Users/niccoloerasmi/Desktop/Raccolta_Dati/spotify_collection_dataset.ipynb#X11sZmlsZQ%3D%3D?line=1'>2</a>\u001b[0m spotify_track\u001b[39m.\u001b[39mhead()\n",
      "\u001b[0;31mNameError\u001b[0m: name 'columns' is not defined"
     ]
    }
   ],
   "source": [
    "spotify_track = pd.DataFrame(list_of_track_audio_features, columns = columns)\n",
    "spotify_track.head()"
   ]
  },
  {
   "cell_type": "code",
   "execution_count": null,
   "metadata": {},
   "outputs": [],
   "source": []
  }
 ],
 "metadata": {
  "colab": {
   "collapsed_sections": [],
   "name": "spotify_collection_dataset.ipynb",
   "provenance": []
  },
  "kernelspec": {
   "display_name": "Python 3 (ipykernel)",
   "language": "python",
   "name": "python3"
  },
  "language_info": {
   "codemirror_mode": {
    "name": "ipython",
    "version": 3
   },
   "file_extension": ".py",
   "mimetype": "text/x-python",
   "name": "python",
   "nbconvert_exporter": "python",
   "pygments_lexer": "ipython3",
   "version": "3.11.6"
  }
 },
 "nbformat": 4,
 "nbformat_minor": 1
}
